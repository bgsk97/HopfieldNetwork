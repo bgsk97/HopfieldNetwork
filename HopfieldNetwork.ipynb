{
  "nbformat": 4,
  "nbformat_minor": 0,
  "metadata": {
    "colab": {
      "name": "HopfieldNetwork.ipynb",
      "provenance": [],
      "collapsed_sections": []
    },
    "kernelspec": {
      "name": "python3",
      "display_name": "Python 3"
    }
  },
  "cells": [
    {
      "cell_type": "code",
      "metadata": {
        "id": "UyGm7dZSWNVg",
        "colab_type": "code",
        "colab": {}
      },
      "source": [
        "import matplotlib.pyplot as plt\n",
        "import numpy as np"
      ],
      "execution_count": 0,
      "outputs": []
    },
    {
      "cell_type": "code",
      "metadata": {
        "id": "5xpCXGkZWRxB",
        "colab_type": "code",
        "colab": {}
      },
      "source": [
        "# set pattern parameters\n",
        "nb_patterns = 4\n",
        "pattern_width = 4\n",
        "pattern_height = 4\n",
        "max_iterations = 10"
      ],
      "execution_count": 0,
      "outputs": []
    },
    {
      "cell_type": "code",
      "metadata": {
        "id": "N5txwHaGWRzh",
        "colab_type": "code",
        "colab": {
          "base_uri": "https://localhost:8080/",
          "height": 159
        },
        "outputId": "070f3cfd-4ff4-4b9e-883a-35a22f7b18a3"
      },
      "source": [
        "# Initialize the patterns\n",
        "X = np.zeros((nb_patterns, pattern_width * pattern_height))\n",
        "\n",
        "X[0] = [-1, 1, 1, -1, -1, 1, 1, -1, -1, 1, 1, -1, -1, 1, 1, -1]\n",
        "X[1] = [-1, -1, -1, -1, 1, 1, 1, 1, 1, 1, 1, 1, -1, -1, -1, -1]\n",
        "X[2] = [-1, -1, 1, 1, -1, -1, 1, 1, 1, 1, -1, -1, 1, 1, -1, -1]\n",
        "X[3] = [1, 1, -1, -1, 1, 1, -1, -1, -1, -1, 1, 1, -1, -1, 1, 1]\n",
        "\n",
        "# Show the patterns\n",
        "fig, ax = plt.subplots(1, nb_patterns, figsize=(10, 5))\n",
        "\n",
        "for i in range(nb_patterns):\n",
        "    ax[i].matshow(X[i].reshape((pattern_height, pattern_width)), cmap='gray')\n",
        "    ax[i].set_xticks([])\n",
        "    ax[i].set_yticks([])\n",
        "\n",
        "plt.show()"
      ],
      "execution_count": 3,
      "outputs": [
        {
          "output_type": "display_data",
          "data": {
            "image/png": "[encoded data removed]",
            "text/plain": [
              "<Figure size 720x360 with 4 Axes>"
            ]
          },
          "metadata": {
            "tags": []
          }
        }
      ]
    },
    {
      "cell_type": "code",
      "metadata": {
        "id": "b6_qn_4eWR2D",
        "colab_type": "code",
        "colab": {}
      },
      "source": [
        "# Initialize weights\n",
        "W = np.zeros((pattern_width * pattern_height, pattern_width * pattern_height))"
      ],
      "execution_count": 0,
      "outputs": []
    },
    {
      "cell_type": "code",
      "metadata": {
        "id": "k7XXOCfQWR4i",
        "colab_type": "code",
        "colab": {}
      },
      "source": [
        "# Update the weights and train the network\n",
        "X0 = np.array([X[0]])\n",
        "X1 = np.array([X[1]])\n",
        "X2 = np.array([X[2]])\n",
        "X3 = np.array([X[3]])\n",
        "M = 4 # number of states (patterns) to be memorized\n",
        "n = len(X[0]) # number of neurons\n",
        "W0 = X0 * X0.T\n",
        "W1 = X1 * X1.T\n",
        "W2 = X2 * X2.T\n",
        "W3 = X3 * X3.T\n",
        "Wsum = W0 + W1 + W2 + W3\n",
        "W= Wsum - M * np.identity(n)"
      ],
      "execution_count": 0,
      "outputs": []
    },
    {
      "cell_type": "code",
      "metadata": {
        "id": "0A7Vb_qmWR68",
        "colab_type": "code",
        "colab": {}
      },
      "source": [
        "# Create a corrupted test pattern\n",
        "x_test = np.array([1, 1, 1, 1, 1, -1, 1, 1, -1, 1, -1, -1, 1, 1, 1, 1])"
      ],
      "execution_count": 0,
      "outputs": []
    },
    {
      "cell_type": "code",
      "metadata": {
        "id": "xS376mq7WR9i",
        "colab_type": "code",
        "colab": {}
      },
      "source": [
        "# Recover the original patterns\n",
        "A = x_test"
      ],
      "execution_count": 0,
      "outputs": []
    },
    {
      "cell_type": "code",
      "metadata": {
        "id": "WqokIJxoWR_1",
        "colab_type": "code",
        "colab": {}
      },
      "source": [
        "for _ in range(max_iterations):\n",
        "    A=np.sign(np.dot(W,A))"
      ],
      "execution_count": 0,
      "outputs": []
    },
    {
      "cell_type": "code",
      "metadata": {
        "id": "NMtF3z2OW38w",
        "colab_type": "code",
        "colab": {
          "base_uri": "https://localhost:8080/",
          "height": 317
        },
        "outputId": "e27e8b43-89b7-48c7-f923-72527d16366d"
      },
      "source": [
        "# Show corrupted and recovered patterns\n",
        "fig, ax = plt.subplots(1, 2, figsize=(10, 5))\n",
        "\n",
        "ax[0].matshow(x_test.reshape(pattern_height, pattern_width), cmap='gray')\n",
        "ax[0].set_title('Corrupted pattern')\n",
        "ax[0].set_xticks([])\n",
        "ax[0].set_yticks([])\n",
        "\n",
        "ax[1].matshow(A.reshape(pattern_height, pattern_width), cmap='gray')\n",
        "ax[1].set_title('Recovered pattern')\n",
        "ax[1].set_xticks([])\n",
        "ax[1].set_yticks([])\n",
        "\n",
        "plt.show()"
      ],
      "execution_count": 9,
      "outputs": [
        {
          "output_type": "display_data",
          "data": {
            "image/png": "[encoded data removed]",
            "text/plain": [
              "<Figure size 720x360 with 2 Axes>"
            ]
          },
          "metadata": {
            "tags": []
          }
        }
      ]
    }
  ]
}